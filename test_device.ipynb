{
 "cells": [
  {
   "cell_type": "code",
   "execution_count": 1,
   "metadata": {},
   "outputs": [
    {
     "ename": "RuntimeError",
     "evalue": "jaxlib is version 0.4.15.dev20240126, but this version of jax requires version >= 0.4.19.",
     "output_type": "error",
     "traceback": [
      "\u001b[0;31m---------------------------------------------------------------------------\u001b[0m",
      "\u001b[0;31mRuntimeError\u001b[0m                              Traceback (most recent call last)",
      "\u001b[1;32m/data/hejing/distri/alpa/test_device.ipynb Cell 1\u001b[0m line \u001b[0;36m4\n\u001b[1;32m      <a href='vscode-notebook-cell://ssh-remote%2B10.88.206.25/data/hejing/distri/alpa/test_device.ipynb#W0sdnNjb2RlLXJlbW90ZQ%3D%3D?line=1'>2</a>\u001b[0m os\u001b[39m.\u001b[39menviron[\u001b[39m\"\u001b[39m\u001b[39mXLA_PYTHON_CLIENT_PREALLOCATE\u001b[39m\u001b[39m\"\u001b[39m] \u001b[39m=\u001b[39m \u001b[39m\"\u001b[39m\u001b[39mfalse\u001b[39m\u001b[39m\"\u001b[39m\n\u001b[1;32m      <a href='vscode-notebook-cell://ssh-remote%2B10.88.206.25/data/hejing/distri/alpa/test_device.ipynb#W0sdnNjb2RlLXJlbW90ZQ%3D%3D?line=2'>3</a>\u001b[0m os\u001b[39m.\u001b[39menviron[\u001b[39m'\u001b[39m\u001b[39mPYTHONPATH\u001b[39m\u001b[39m'\u001b[39m]\u001b[39m=\u001b[39m\u001b[39m'\u001b[39m\u001b[39m/data/hejing/distri/jax\u001b[39m\u001b[39m'\u001b[39m\n\u001b[0;32m----> <a href='vscode-notebook-cell://ssh-remote%2B10.88.206.25/data/hejing/distri/alpa/test_device.ipynb#W0sdnNjb2RlLXJlbW90ZQ%3D%3D?line=3'>4</a>\u001b[0m \u001b[39mimport\u001b[39;00m \u001b[39mjax\u001b[39;00m\n\u001b[1;32m      <a href='vscode-notebook-cell://ssh-remote%2B10.88.206.25/data/hejing/distri/alpa/test_device.ipynb#W0sdnNjb2RlLXJlbW90ZQ%3D%3D?line=4'>5</a>\u001b[0m \u001b[39mfrom\u001b[39;00m \u001b[39mjax\u001b[39;00m\u001b[39m.\u001b[39;00m\u001b[39mlib\u001b[39;00m \u001b[39mimport\u001b[39;00m xla_client\n\u001b[1;32m      <a href='vscode-notebook-cell://ssh-remote%2B10.88.206.25/data/hejing/distri/alpa/test_device.ipynb#W0sdnNjb2RlLXJlbW90ZQ%3D%3D?line=5'>6</a>\u001b[0m server_address \u001b[39m=\u001b[39m \u001b[39m'\u001b[39m\u001b[39m10.233.124.194:22222\u001b[39m\u001b[39m'\u001b[39m\n",
      "File \u001b[0;32m/usr/local/lib/python3.9/dist-packages/jax/__init__.py:39\u001b[0m\n\u001b[1;32m     34\u001b[0m \u001b[39mdel\u001b[39;00m _cloud_tpu_init\n\u001b[1;32m     36\u001b[0m \u001b[39m# Confusingly there are two things named \"config\": the module and the class.\u001b[39;00m\n\u001b[1;32m     37\u001b[0m \u001b[39m# We want the exported object to be the class, so we first import the module\u001b[39;00m\n\u001b[1;32m     38\u001b[0m \u001b[39m# to make sure a later import doesn't overwrite the class.\u001b[39;00m\n\u001b[0;32m---> 39\u001b[0m \u001b[39mfrom\u001b[39;00m \u001b[39mjax\u001b[39;00m \u001b[39mimport\u001b[39;00m config \u001b[39mas\u001b[39;00m _config_module\n\u001b[1;32m     40\u001b[0m \u001b[39mdel\u001b[39;00m _config_module\n\u001b[1;32m     42\u001b[0m \u001b[39m# Force early import, allowing use of `jax.core` after importing `jax`.\u001b[39;00m\n",
      "File \u001b[0;32m/usr/local/lib/python3.9/dist-packages/jax/config.py:15\u001b[0m\n\u001b[1;32m      1\u001b[0m \u001b[39m# Copyright 2018 The JAX Authors.\u001b[39;00m\n\u001b[1;32m      2\u001b[0m \u001b[39m#\u001b[39;00m\n\u001b[1;32m      3\u001b[0m \u001b[39m# Licensed under the Apache License, Version 2.0 (the \"License\");\u001b[39;00m\n\u001b[0;32m   (...)\u001b[0m\n\u001b[1;32m     12\u001b[0m \u001b[39m# See the License for the specific language governing permissions and\u001b[39;00m\n\u001b[1;32m     13\u001b[0m \u001b[39m# limitations under the License.\u001b[39;00m\n\u001b[0;32m---> 15\u001b[0m \u001b[39mfrom\u001b[39;00m \u001b[39mjax\u001b[39;00m\u001b[39m.\u001b[39;00m\u001b[39m_src\u001b[39;00m\u001b[39m.\u001b[39;00m\u001b[39mconfig\u001b[39;00m \u001b[39mimport\u001b[39;00m config \u001b[39mas\u001b[39;00m _deprecated_config  \u001b[39m# noqa: F401\u001b[39;00m\n\u001b[1;32m     17\u001b[0m \u001b[39m# Deprecations\u001b[39;00m\n\u001b[1;32m     19\u001b[0m _deprecations \u001b[39m=\u001b[39m {\n\u001b[1;32m     20\u001b[0m     \u001b[39m# Added October 27, 2023\u001b[39;00m\n\u001b[1;32m     21\u001b[0m     \u001b[39m\"\u001b[39m\u001b[39mconfig\u001b[39m\u001b[39m\"\u001b[39m: (\n\u001b[1;32m     22\u001b[0m         \u001b[39m\"\u001b[39m\u001b[39mAccessing jax.config via the jax.config submodule is deprecated.\u001b[39m\u001b[39m\"\u001b[39m,\n\u001b[1;32m     23\u001b[0m         _deprecated_config),\n\u001b[1;32m     24\u001b[0m }\n",
      "File \u001b[0;32m/usr/local/lib/python3.9/dist-packages/jax/_src/config.py:28\u001b[0m\n\u001b[1;32m     25\u001b[0m \u001b[39mfrom\u001b[39;00m \u001b[39mtyping\u001b[39;00m \u001b[39mimport\u001b[39;00m Any, Callable, Generic, NamedTuple, NoReturn, TypeVar\n\u001b[1;32m     26\u001b[0m \u001b[39mimport\u001b[39;00m \u001b[39mwarnings\u001b[39;00m\n\u001b[0;32m---> 28\u001b[0m \u001b[39mfrom\u001b[39;00m \u001b[39mjax\u001b[39;00m\u001b[39m.\u001b[39;00m\u001b[39m_src\u001b[39;00m \u001b[39mimport\u001b[39;00m lib\n\u001b[1;32m     29\u001b[0m \u001b[39mfrom\u001b[39;00m \u001b[39mjax\u001b[39;00m\u001b[39m.\u001b[39;00m\u001b[39m_src\u001b[39;00m\u001b[39m.\u001b[39;00m\u001b[39mlib\u001b[39;00m \u001b[39mimport\u001b[39;00m jax_jit\n\u001b[1;32m     30\u001b[0m \u001b[39mfrom\u001b[39;00m \u001b[39mjax\u001b[39;00m\u001b[39m.\u001b[39;00m\u001b[39m_src\u001b[39;00m\u001b[39m.\u001b[39;00m\u001b[39mlib\u001b[39;00m \u001b[39mimport\u001b[39;00m transfer_guard_lib\n",
      "File \u001b[0;32m/usr/local/lib/python3.9/dist-packages/jax/_src/lib/__init__.py:74\u001b[0m\n\u001b[1;32m     70\u001b[0m   \u001b[39mreturn\u001b[39;00m _jaxlib_version\n\u001b[1;32m     73\u001b[0m version_str \u001b[39m=\u001b[39m jaxlib\u001b[39m.\u001b[39mversion\u001b[39m.\u001b[39m__version__\n\u001b[0;32m---> 74\u001b[0m version \u001b[39m=\u001b[39m check_jaxlib_version(\n\u001b[1;32m     75\u001b[0m   jax_version\u001b[39m=\u001b[39;49mjax\u001b[39m.\u001b[39;49mversion\u001b[39m.\u001b[39;49m__version__,\n\u001b[1;32m     76\u001b[0m   jaxlib_version\u001b[39m=\u001b[39;49mjaxlib\u001b[39m.\u001b[39;49mversion\u001b[39m.\u001b[39;49m__version__,\n\u001b[1;32m     77\u001b[0m   minimum_jaxlib_version\u001b[39m=\u001b[39;49mjax\u001b[39m.\u001b[39;49mversion\u001b[39m.\u001b[39;49m_minimum_jaxlib_version)\n\u001b[1;32m     79\u001b[0m \u001b[39m# Before importing any C compiled modules from jaxlib, first import the CPU\u001b[39;00m\n\u001b[1;32m     80\u001b[0m \u001b[39m# feature guard module to verify that jaxlib was compiled in a way that only\u001b[39;00m\n\u001b[1;32m     81\u001b[0m \u001b[39m# uses instructions that are present on this machine.\u001b[39;00m\n\u001b[1;32m     82\u001b[0m \u001b[39mimport\u001b[39;00m \u001b[39mjaxlib\u001b[39;00m\u001b[39m.\u001b[39;00m\u001b[39mcpu_feature_guard\u001b[39;00m \u001b[39mas\u001b[39;00m \u001b[39mcpu_feature_guard\u001b[39;00m\n",
      "File \u001b[0;32m/usr/local/lib/python3.9/dist-packages/jax/_src/lib/__init__.py:63\u001b[0m, in \u001b[0;36mcheck_jaxlib_version\u001b[0;34m(jax_version, jaxlib_version, minimum_jaxlib_version)\u001b[0m\n\u001b[1;32m     60\u001b[0m \u001b[39mif\u001b[39;00m _jaxlib_version \u001b[39m<\u001b[39m _minimum_jaxlib_version:\n\u001b[1;32m     61\u001b[0m   msg \u001b[39m=\u001b[39m (\u001b[39mf\u001b[39m\u001b[39m'\u001b[39m\u001b[39mjaxlib is version \u001b[39m\u001b[39m{\u001b[39;00mjaxlib_version\u001b[39m}\u001b[39;00m\u001b[39m, but this version \u001b[39m\u001b[39m'\u001b[39m\n\u001b[1;32m     62\u001b[0m          \u001b[39mf\u001b[39m\u001b[39m'\u001b[39m\u001b[39mof jax requires version >= \u001b[39m\u001b[39m{\u001b[39;00mminimum_jaxlib_version\u001b[39m}\u001b[39;00m\u001b[39m.\u001b[39m\u001b[39m'\u001b[39m)\n\u001b[0;32m---> 63\u001b[0m   \u001b[39mraise\u001b[39;00m \u001b[39mRuntimeError\u001b[39;00m(msg)\n\u001b[1;32m     65\u001b[0m \u001b[39mif\u001b[39;00m _jaxlib_version \u001b[39m>\u001b[39m _jax_version:\n\u001b[1;32m     66\u001b[0m   \u001b[39mraise\u001b[39;00m \u001b[39mRuntimeError\u001b[39;00m(\n\u001b[1;32m     67\u001b[0m       \u001b[39mf\u001b[39m\u001b[39m'\u001b[39m\u001b[39mjaxlib version \u001b[39m\u001b[39m{\u001b[39;00mjaxlib_version\u001b[39m}\u001b[39;00m\u001b[39m is newer than and \u001b[39m\u001b[39m'\u001b[39m\n\u001b[1;32m     68\u001b[0m       \u001b[39mf\u001b[39m\u001b[39m'\u001b[39m\u001b[39mincompatible with jax version \u001b[39m\u001b[39m{\u001b[39;00mjax_version\u001b[39m}\u001b[39;00m\u001b[39m. Please \u001b[39m\u001b[39m'\u001b[39m\n\u001b[1;32m     69\u001b[0m       \u001b[39m'\u001b[39m\u001b[39mupdate your jax and/or jaxlib packages.\u001b[39m\u001b[39m'\u001b[39m)\n",
      "\u001b[0;31mRuntimeError\u001b[0m: jaxlib is version 0.4.15.dev20240126, but this version of jax requires version >= 0.4.19."
     ]
    }
   ],
   "source": [
    "import os\n",
    "os.environ[\"XLA_PYTHON_CLIENT_PREALLOCATE\"] = \"false\"\n",
    "os.environ['PYTHONPATH']='/data/hejing/distri/jax'\n",
    "import jax\n",
    "from jax.lib import xla_client\n",
    "server_address = '10.233.124.194:22222'\n",
    "service_server = xla_client._xla.get_distributed_runtime_service(server_address, 2)\n",
    "distributed_client = xla_client._xla.get_distributed_runtime_client(server_address, 0)\n",
    "distributed_client.connect()\n",
    "backend = xla_client.make_gpu_client(distributed_client, node_id=0)\n",
    "print(backend.devices())\n",
    "import time\n",
    "time.sleep(30)"
   ]
  }
 ],
 "metadata": {
  "kernelspec": {
   "display_name": "Python 3",
   "language": "python",
   "name": "python3"
  },
  "language_info": {
   "codemirror_mode": {
    "name": "ipython",
    "version": 3
   },
   "file_extension": ".py",
   "mimetype": "text/x-python",
   "name": "python",
   "nbconvert_exporter": "python",
   "pygments_lexer": "ipython3",
   "version": "3.9.5"
  }
 },
 "nbformat": 4,
 "nbformat_minor": 2
}
